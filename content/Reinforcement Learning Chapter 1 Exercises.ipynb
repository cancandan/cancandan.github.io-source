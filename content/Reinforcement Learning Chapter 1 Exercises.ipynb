{
 "cells": [
  {
   "cell_type": "markdown",
   "metadata": {},
   "source": [
    "I'm reading the 2nd edition of the very nice [book](https://webdocs.cs.ualberta.ca/~sutton/book/the-book.html) by Richard S. Sutton and Andrew G. Barto. Here I describe my exploration for the exercises at the end of chapter 1.\n",
    "\n",
    "Chapter 1 describes value functions and how one may approach the problem of creating a self learning program that plays tic tac toe. Full source code [here](https://github.com/cancandan/reinforcement_learning_book)\n",
    "\n",
    "`Board`,`Game`,`Player` are the main classes. "
   ]
  },
  {
   "cell_type": "markdown",
   "metadata": {},
   "source": [
    "The Board object\n",
    "====\n",
    "`Board` holds a list of length 9 named `state` made up of numbers from the set {0,1,2} where 0 means the cell is empty, 1 means the sign of the player who plays first and 2 the sign of second. 9 values correspond to cells from top left to bottom right increasing from left to right and top to bottom.\n",
    "Here is the `Board` class\n"
   ]
  },
  {
   "cell_type": "code",
   "execution_count": 99,
   "metadata": {
    "collapsed": true
   },
   "outputs": [],
   "source": [
    "class Board:     \n",
    "    def display(self):\n",
    "        form = '''\n",
    "            \\t| %s | %s | %s |\n",
    "            \\t-------------\n",
    "            \\t| %s | %s | %s |\n",
    "            \\t-------------\n",
    "            \\t| %s | %s | %s |\n",
    "            '''\n",
    "        disp=[]\n",
    "        for i in self.state:\n",
    "            if i==0:\n",
    "                disp.append('-')\n",
    "            elif i==1:\n",
    "                disp.append('X')    \n",
    "            elif i==2:\n",
    "                disp.append('O')\n",
    "        return (form % tuple(disp))\n",
    "            \n",
    "    def __init__(self,state=None):\n",
    "        if (state is None):        \n",
    "            self.state=[0]*9\n",
    "        else:\n",
    "            self.state=state\n",
    "    def __repr__(self):\n",
    "        return self.display()\n",
    "    def emptyCells(self):\n",
    "        return [idx for idx,val in enumerate(self.state) if val==0]\n",
    "    def newBoard(self,location,sign):\n",
    "        mycopy=copy.deepcopy(self)\n",
    "        mycopy.state[location]=sign\n",
    "        return mycopy\n",
    "    def __hash__(self):\n",
    "        return hash(tuple(self.state))\n",
    "    def __eq__(self,other):\n",
    "        return tuple(self.state)==tuple(other.state)\n",
    "    def rotate(self):\n",
    "        mycopy=copy.deepcopy(self)\n",
    "        #0>6,1>3,2>0\n",
    "        #3>7,4>4,5>1\n",
    "        #6>8,7>5,8>2\n",
    "        mycopy.state[6]=self.state[0]\n",
    "        mycopy.state[8]=self.state[6]\n",
    "        mycopy.state[2]=self.state[8]\n",
    "        mycopy.state[0]=self.state[2]\n",
    "        \n",
    "        mycopy.state[3]=self.state[1]\n",
    "        mycopy.state[7]=self.state[3]\n",
    "        mycopy.state[5]=self.state[7]\n",
    "        mycopy.state[1]=self.state[5]\n",
    "        return mycopy\n",
    "#         mycopy.state[4]=self.state[4]\n",
    "    def reflectHorizontal(self):\n",
    "        mycopy=copy.deepcopy(self)\n",
    "        mycopy.state[6]=self.state[0]\n",
    "        mycopy.state[7]=self.state[1]\n",
    "        mycopy.state[8]=self.state[2]\n",
    "        \n",
    "        mycopy.state[0]=self.state[6]\n",
    "        mycopy.state[1]=self.state[7]\n",
    "        mycopy.state[2]=self.state[8]\n",
    "        return mycopy"
   ]
  },
  {
   "cell_type": "markdown",
   "metadata": {},
   "source": [
    "The method `newBoard` returns a copy of the current board with the given sign of the player making a move to the specified location. The methods `rotate` and `reflectHorizontal` are necessary in a later in chapter 1.\n",
    "Here is an empty board"
   ]
  },
  {
   "cell_type": "code",
   "execution_count": 101,
   "metadata": {
    "collapsed": false
   },
   "outputs": [
    {
     "data": {
      "text/plain": [
       "\n",
       "            \t| - | - | - |\n",
       "            \t-------------\n",
       "            \t| - | - | - |\n",
       "            \t-------------\n",
       "            \t| - | - | - |\n",
       "            "
      ]
     },
     "execution_count": 101,
     "metadata": {},
     "output_type": "execute_result"
    }
   ],
   "source": [
    "Board()"
   ]
  },
  {
   "cell_type": "markdown",
   "metadata": {},
   "source": [
    "A board with some state"
   ]
  },
  {
   "cell_type": "code",
   "execution_count": 102,
   "metadata": {
    "collapsed": false
   },
   "outputs": [
    {
     "data": {
      "text/plain": [
       "\n",
       "            \t| - | X | O |\n",
       "            \t-------------\n",
       "            \t| X | - | O |\n",
       "            \t-------------\n",
       "            \t| - | - | - |\n",
       "            "
      ]
     },
     "execution_count": 102,
     "metadata": {},
     "output_type": "execute_result"
    }
   ],
   "source": [
    "Board([0,1,2,1,0,2,0,0,0])"
   ]
  },
  {
   "cell_type": "markdown",
   "metadata": {},
   "source": [
    "The Game object\n",
    "====\n",
    "This object refers to both players and the board, it keeps a history of moves, has a method for sequentially making the players move and a method that checks if the game is finished with a win,loose or a tie."
   ]
  },
  {
   "cell_type": "code",
   "execution_count": null,
   "metadata": {
    "collapsed": true
   },
   "outputs": [],
   "source": [
    "class Game:\n",
    "    def __init__(self,playerOne,playerTwo):\n",
    "        self.playerOneWin=False\n",
    "        self.playerOneLoose=False\n",
    "        self.tie=False\n",
    "        self.playerOne=playerOne\n",
    "        self.playerTwo=playerTwo\n",
    "        self.board=Board()\n",
    "        self.history=[]                               \n",
    "        self.addBoardToHistory()\n",
    "        \n",
    "    def addBoardToHistory(self):        \n",
    "        self.history.append(copy.deepcopy(self.board))\n",
    "    def play(self):        \n",
    "        if isinstance(self.playerOne,HumanPlayer):\n",
    "            print self.board\n",
    "        while(True):\n",
    "            self.playerOne.makeMove(self)            \n",
    "            if isinstance(self.playerOne,HumanPlayer) or isinstance(self.playerTwo,HumanPlayer):\n",
    "                print self.board\n",
    "            self.addBoardToHistory()\n",
    "            if self.finished(): break\n",
    "            \n",
    "            self.playerTwo.makeMove(self)\n",
    "            if isinstance(self.playerOne,HumanPlayer) or isinstance(self.playerTwo,HumanPlayer):\n",
    "                print self.board\n",
    "            self.addBoardToHistory()\n",
    "            if self.finished(): break\n",
    "                    \n",
    "    def finished(self):\n",
    "        win,loose=self.playerOne.winLoose(self.board)\n",
    "        self.win=win\n",
    "        self.loose=loose\n",
    "        if not(win or loose):\n",
    "            empty=self.board.emptyCells()\n",
    "            if len(empty)==0:\n",
    "                self.tie=True\n",
    "        if (self.win or self.loose or self.tie):\n",
    "            return True\n",
    "        return False\n"
   ]
  },
  {
   "cell_type": "markdown",
   "metadata": {},
   "source": [
    "The Player object\n",
    "====\n",
    "The `Player` plays randomly with the probability specified in the constructor and greedily otherwise, where playing greedily means choosing the move with the highest value given by the value function. The value function is simply a dictionary and is maintained within the `Player` object. It maps board states to a score which is a real number between 0 and 1.\n",
    "Initially the value dict is empty, but gets filled as the program runs when a query for the value of a state is made. The winning combinations are in `wincombn` and they get the score 1, loosing combinations get score 0 and the rest 0.5 initially. Winning combination for a player corresponds to the board state having the same sign vertically, horizontally or diagonally for a player.\n",
    "\n",
    "The approach described in the book to reinforcement learning is in the method `greedyMove`. Here after iterating on all empty cells and selecting one from the set of best moves we update the score of the previous board state we were at, according to the formula `V(s)=V(s)+alpha*[V(s')-V(s)]`. Here `V(s)` is the value of the old state `V(s')` value of the best move.\n"
   ]
  },
  {
   "cell_type": "code",
   "execution_count": 98,
   "metadata": {
    "collapsed": true
   },
   "outputs": [],
   "source": [
    "class Player:    \n",
    "    def __init__(self,sign,randomNess=0.1):\n",
    "        self.V=dict()\n",
    "        self.sign=sign\n",
    "        self.opponentSign=(self.sign==1 and 2 or 1)\n",
    "        self.randomMoveProbability=randomNess\n",
    "        self.wincombn=[[6, 7, 8], [3, 4, 5], [0, 1, 2], [0, 3, 6], [1, 4, 7], [2, 5, 8],[0, 4, 8], [2, 4, 6]]\n",
    "        self.alpha=0.1\n",
    "    def getValueForState(self,board):\n",
    "        win,loose=self.winLoose(board)\n",
    "        if win:\n",
    "            return 1\n",
    "        if loose:\n",
    "            return 0\n",
    "        score=self.V.get(board)    \n",
    "        if (score is None):            \n",
    "            self.V[board]=0.5\n",
    "            return 0.5\n",
    "        else:\n",
    "            return score\n",
    "        \n",
    "    def winLoose(self,board):\n",
    "        checks=[[board.state[i] for i in sqn] for sqn in self.wincombn]\n",
    "        win=(3 in [check.count(self.sign) for check in checks])        \n",
    "        loose=(3 in [check.count(self.opponentSign) for check in checks])\n",
    "        return win,loose\n",
    "            \n",
    "            \n",
    "    def randomMove(self,game,empty):                \n",
    "        rnd=random.randrange(0,len(empty))        \n",
    "        newBoard=game.board.newBoard(empty[rnd],self.sign)\n",
    "        game.board=newBoard\n",
    "    \n",
    "    def updateValueForState(self,state,newval):\n",
    "        self.V[state]=newval\n",
    "        \n",
    "    def greedyMove(self,game,empty): \n",
    "        # greedy move                \n",
    "        possibleMovesAndScores=dict()\n",
    "        for cell in empty:\n",
    "            candidate=game.board.newBoard(cell,self.sign)\n",
    "            score=self.getValueForState(candidate)\n",
    "            possibleMovesAndScores[candidate]=score\n",
    "        \n",
    "        vals=possibleMovesAndScores.values()\n",
    "        maxScore=max(vals)\n",
    "        bestMoves=[k for k,v in possibleMovesAndScores.items() if v==maxScore]\n",
    "        chooseOne=random.randrange(0,len(bestMoves))\n",
    "        oneBestMove=bestMoves[chooseOne]\n",
    "        \n",
    "        \n",
    "        if len(game.history)>2:                    \n",
    "            oldval=self.getValueForState(game.history[-2])\n",
    "            newval=oldval+self.alpha*(self.getValueForState(oneBestMove)-oldval)\n",
    "            self.updateValueForState(game.history[-2],newval)\n",
    "        game.board=oneBestMove\n",
    "        \n",
    "    def makeMove(self,game):\n",
    "        empty=game.board.emptyCells()\n",
    "        if (random.random()<self.randomMoveProbability):\n",
    "            return self.randomMove(game,empty)            \n",
    "        return self.greedyMove(game,empty)"
   ]
  },
  {
   "cell_type": "markdown",
   "metadata": {},
   "source": [
    "The GameLoop object:\n",
    "====\n",
    "This is for bookkeeping the number of wins, losses and ties. It also keeps all played games."
   ]
  },
  {
   "cell_type": "code",
   "execution_count": null,
   "metadata": {
    "collapsed": true
   },
   "outputs": [],
   "source": [
    "class GameLoop:\n",
    "    def __init__(self,playerOne,playerTwo):\n",
    "        self.wintimes=0\n",
    "        self.loosetimes=0\n",
    "        self.tietimes=0\n",
    "    \n",
    "    \n",
    "        self.playerOne=playerOne\n",
    "        self.playerTwo=playerTwo\n",
    "        self.games=[]\n",
    "        \n",
    "    def run(self,numrounds=10000):\n",
    "        for i in range(0,numrounds):\n",
    "            g=Game(self.playerOne,self.playerTwo)\n",
    "            g.play()\n",
    "            if (g.win):\n",
    "                self.wintimes=self.wintimes+1\n",
    "            if (g.loose):\n",
    "                self.loosetimes=self.loosetimes+1\n",
    "            if (g.tie):\n",
    "                self.tietimes=self.tietimes+1\n",
    "            self.games.append(g)  "
   ]
  },
  {
   "cell_type": "markdown",
   "metadata": {},
   "source": [
    "`plotWins` is a utility function for plotting the ratio of number of wins to total games played"
   ]
  },
  {
   "cell_type": "code",
   "execution_count": null,
   "metadata": {
    "collapsed": true
   },
   "outputs": [],
   "source": [
    "import matplotlib.pyplot as plt\n",
    "import numpy as np\n",
    "%matplotlib inline\n",
    "def plotWins(gl):\n",
    "    wins=[g.win for g in gl.games]\n",
    "    wins_cs=np.array(wins).cumsum()\n",
    "    avg=[float(val)/(idx+1) for idx,val in enumerate(wins_cs)]\n",
    "    print avg[-1]\n",
    "    plt.plot(range(0,len(gl.games)),avg)"
   ]
  },
  {
   "cell_type": "markdown",
   "metadata": {},
   "source": [
    "Lets run and see what happens:\n",
    "====\n",
    "To try it yourself checkout the `tictactoe.py` from the repository and load as follows:"
   ]
  },
  {
   "cell_type": "code",
   "execution_count": null,
   "metadata": {
    "collapsed": true
   },
   "outputs": [],
   "source": [
    "%run ~/software-projects/RL/tictactoe.py"
   ]
  },
  {
   "cell_type": "markdown",
   "metadata": {},
   "source": [
    ">Exercise 1.1: Self-Play Suppose, instead of playing against a random\n",
    "opponent, the reinforcement learning algorithm described above played against\n",
    "itself. What do you think would happen in this case? Would it learn a different\n",
    "way of playing?"
   ]
  },
  {
   "cell_type": "markdown",
   "metadata": {},
   "source": [
    "First player random, second semi greedy (randomness=0.1)\n",
    "====="
   ]
  },
  {
   "cell_type": "code",
   "execution_count": 126,
   "metadata": {
    "collapsed": false
   },
   "outputs": [],
   "source": [
    "rand11=Player(1,randomNess=1)\n",
    "greedy12=Player(2,randomNess=0.1)\n",
    "gl=GameLoop(rand11,greedy12)\n",
    "gl.run(numrounds=10000)"
   ]
  },
  {
   "cell_type": "code",
   "execution_count": 128,
   "metadata": {
    "collapsed": false
   },
   "outputs": [
    {
     "name": "stdout",
     "output_type": "stream",
     "text": [
      "0.2323\n"
     ]
    },
    {
     "data": {
      "image/png": "[encoded data removed]",
      "text/plain": [
       "<matplotlib.figure.Figure at 0x10f7d2d90>"
      ]
     },
     "metadata": {},
     "output_type": "display_data"
    }
   ],
   "source": [
    "plotWins(gl)"
   ]
  },
  {
   "cell_type": "markdown",
   "metadata": {},
   "source": [
    "Both players semi greedy (randomness=0.1)\n",
    "====="
   ]
  },
  {
   "cell_type": "code",
   "execution_count": 129,
   "metadata": {
    "collapsed": true
   },
   "outputs": [],
   "source": [
    "greedy21=Player(1,randomNess=0.1)\n",
    "greedy22=Player(2,randomNess=0.1)\n",
    "gl=GameLoop(greedy21,greedy22)\n",
    "gl.run(numrounds=10000)"
   ]
  },
  {
   "cell_type": "code",
   "execution_count": 130,
   "metadata": {
    "collapsed": false
   },
   "outputs": [
    {
     "name": "stdout",
     "output_type": "stream",
     "text": [
      "0.3121\n"
     ]
    },
    {
     "data": {
      "image/png": "[encoded data removed]",
      "text/plain": [
       "<matplotlib.figure.Figure at 0x10f6cd350>"
      ]
     },
     "metadata": {},
     "output_type": "display_data"
    }
   ],
   "source": [
    "plotWins(gl)"
   ]
  },
  {
   "cell_type": "markdown",
   "metadata": {},
   "source": [
    "I will play against greedy12"
   ]
  },
  {
   "cell_type": "code",
   "execution_count": 133,
   "metadata": {
    "collapsed": false
   },
   "outputs": [
    {
     "name": "stdout",
     "output_type": "stream",
     "text": [
      "\n",
      "            \t| - | - | - |\n",
      "            \t-------------\n",
      "            \t| - | - | - |\n",
      "            \t-------------\n",
      "            \t| - | - | - |\n",
      "            \n",
      "your move:0\n",
      "\n",
      "            \t| X | - | - |\n",
      "            \t-------------\n",
      "            \t| - | - | - |\n",
      "            \t-------------\n",
      "            \t| - | - | - |\n",
      "            \n",
      "\n",
      "            \t| X | - | - |\n",
      "            \t-------------\n",
      "            \t| - | - | - |\n",
      "            \t-------------\n",
      "            \t| - | - | O |\n",
      "            \n",
      "your move:1\n",
      "\n",
      "            \t| X | X | - |\n",
      "            \t-------------\n",
      "            \t| - | - | - |\n",
      "            \t-------------\n",
      "            \t| - | - | O |\n",
      "            \n",
      "\n",
      "            \t| X | X | - |\n",
      "            \t-------------\n",
      "            \t| - | - | - |\n",
      "            \t-------------\n",
      "            \t| - | O | O |\n",
      "            \n",
      "your move:2\n",
      "\n",
      "            \t| X | X | X |\n",
      "            \t-------------\n",
      "            \t| - | - | - |\n",
      "            \t-------------\n",
      "            \t| - | O | O |\n",
      "            \n"
     ]
    }
   ],
   "source": [
    "h=HumanPlayer(1)\n",
    "g=Game(h,greedy12)\n",
    "g.play()"
   ]
  },
  {
   "cell_type": "markdown",
   "metadata": {},
   "source": [
    "Not very bright, what about greedy22?"
   ]
  },
  {
   "cell_type": "code",
   "execution_count": 134,
   "metadata": {
    "collapsed": false
   },
   "outputs": [
    {
     "name": "stdout",
     "output_type": "stream",
     "text": [
      "\n",
      "            \t| - | - | - |\n",
      "            \t-------------\n",
      "            \t| - | - | - |\n",
      "            \t-------------\n",
      "            \t| - | - | - |\n",
      "            \n",
      "your move:0\n",
      "\n",
      "            \t| X | - | - |\n",
      "            \t-------------\n",
      "            \t| - | - | - |\n",
      "            \t-------------\n",
      "            \t| - | - | - |\n",
      "            \n",
      "\n",
      "            \t| X | - | - |\n",
      "            \t-------------\n",
      "            \t| O | - | - |\n",
      "            \t-------------\n",
      "            \t| - | - | - |\n",
      "            \n",
      "your move:1\n",
      "\n",
      "            \t| X | X | - |\n",
      "            \t-------------\n",
      "            \t| O | - | - |\n",
      "            \t-------------\n",
      "            \t| - | - | - |\n",
      "            \n",
      "\n",
      "            \t| X | X | - |\n",
      "            \t-------------\n",
      "            \t| O | - | - |\n",
      "            \t-------------\n",
      "            \t| O | - | - |\n",
      "            \n",
      "your move:2\n",
      "\n",
      "            \t| X | X | X |\n",
      "            \t-------------\n",
      "            \t| O | - | - |\n",
      "            \t-------------\n",
      "            \t| O | - | - |\n",
      "            \n"
     ]
    }
   ],
   "source": [
    "h=HumanPlayer(1)\n",
    "g=Game(h,greedy22)\n",
    "g.play()"
   ]
  },
  {
   "cell_type": "markdown",
   "metadata": {},
   "source": [
    "Nope, would more iterations help? Running random vs greedy for 100k and trying again"
   ]
  },
  {
   "cell_type": "code",
   "execution_count": 135,
   "metadata": {
    "collapsed": true
   },
   "outputs": [],
   "source": [
    "rand11=Player(1,randomNess=1)\n",
    "greedy12=Player(2,randomNess=0.1)\n",
    "gl=GameLoop(rand11,greedy12)\n",
    "gl.run(numrounds=100000)"
   ]
  },
  {
   "cell_type": "code",
   "execution_count": 136,
   "metadata": {
    "collapsed": false
   },
   "outputs": [
    {
     "name": "stdout",
     "output_type": "stream",
     "text": [
      "\n",
      "            \t| - | - | - |\n",
      "            \t-------------\n",
      "            \t| - | - | - |\n",
      "            \t-------------\n",
      "            \t| - | - | - |\n",
      "            \n",
      "your move:0\n",
      "\n",
      "            \t| X | - | - |\n",
      "            \t-------------\n",
      "            \t| - | - | - |\n",
      "            \t-------------\n",
      "            \t| - | - | - |\n",
      "            \n",
      "\n",
      "            \t| X | - | O |\n",
      "            \t-------------\n",
      "            \t| - | - | - |\n",
      "            \t-------------\n",
      "            \t| - | - | - |\n",
      "            \n",
      "your move:3\n",
      "\n",
      "            \t| X | - | O |\n",
      "            \t-------------\n",
      "            \t| X | - | - |\n",
      "            \t-------------\n",
      "            \t| - | - | - |\n",
      "            \n",
      "\n",
      "            \t| X | O | O |\n",
      "            \t-------------\n",
      "            \t| X | - | - |\n",
      "            \t-------------\n",
      "            \t| - | - | - |\n",
      "            \n",
      "your move:6\n",
      "\n",
      "            \t| X | O | O |\n",
      "            \t-------------\n",
      "            \t| X | - | - |\n",
      "            \t-------------\n",
      "            \t| X | - | - |\n",
      "            \n"
     ]
    }
   ],
   "source": [
    "h=HumanPlayer(1)\n",
    "g=Game(h,greedy12)\n",
    "g.play()"
   ]
  },
  {
   "cell_type": "markdown",
   "metadata": {},
   "source": [
    "I win easily, what about greedy vs greedy for 100k?"
   ]
  },
  {
   "cell_type": "code",
   "execution_count": 137,
   "metadata": {
    "collapsed": true
   },
   "outputs": [],
   "source": [
    "greedy21=Player(1,randomNess=0.1)\n",
    "greedy22=Player(2,randomNess=0.1)\n",
    "gl=GameLoop(greedy21,greedy22)\n",
    "gl.run(numrounds=100000)"
   ]
  },
  {
   "cell_type": "code",
   "execution_count": 140,
   "metadata": {
    "collapsed": false
   },
   "outputs": [
    {
     "name": "stdout",
     "output_type": "stream",
     "text": [
      "\n",
      "            \t| - | - | - |\n",
      "            \t-------------\n",
      "            \t| - | - | - |\n",
      "            \t-------------\n",
      "            \t| - | - | - |\n",
      "            \n",
      "your move:0\n",
      "\n",
      "            \t| X | - | - |\n",
      "            \t-------------\n",
      "            \t| - | - | - |\n",
      "            \t-------------\n",
      "            \t| - | - | - |\n",
      "            \n",
      "\n",
      "            \t| X | - | - |\n",
      "            \t-------------\n",
      "            \t| - | - | O |\n",
      "            \t-------------\n",
      "            \t| - | - | - |\n",
      "            \n",
      "your move:1\n",
      "\n",
      "            \t| X | X | - |\n",
      "            \t-------------\n",
      "            \t| - | - | O |\n",
      "            \t-------------\n",
      "            \t| - | - | - |\n",
      "            \n",
      "\n",
      "            \t| X | X | O |\n",
      "            \t-------------\n",
      "            \t| - | - | O |\n",
      "            \t-------------\n",
      "            \t| - | - | - |\n",
      "            \n",
      "your move:8\n",
      "\n",
      "            \t| X | X | O |\n",
      "            \t-------------\n",
      "            \t| - | - | O |\n",
      "            \t-------------\n",
      "            \t| - | - | X |\n",
      "            \n",
      "\n",
      "            \t| X | X | O |\n",
      "            \t-------------\n",
      "            \t| - | O | O |\n",
      "            \t-------------\n",
      "            \t| - | - | X |\n",
      "            \n",
      "your move:3\n",
      "\n",
      "            \t| X | X | O |\n",
      "            \t-------------\n",
      "            \t| X | O | O |\n",
      "            \t-------------\n",
      "            \t| - | - | X |\n",
      "            \n",
      "\n",
      "            \t| X | X | O |\n",
      "            \t-------------\n",
      "            \t| X | O | O |\n",
      "            \t-------------\n",
      "            \t| O | - | X |\n",
      "            \n"
     ]
    }
   ],
   "source": [
    "h=HumanPlayer(1)\n",
    "g=Game(h,greedy22)\n",
    "g.play()"
   ]
  },
  {
   "cell_type": "markdown",
   "metadata": {},
   "source": [
    "Cool! Another go."
   ]
  },
  {
   "cell_type": "code",
   "execution_count": 141,
   "metadata": {
    "collapsed": false
   },
   "outputs": [
    {
     "name": "stdout",
     "output_type": "stream",
     "text": [
      "\n",
      "            \t| - | - | - |\n",
      "            \t-------------\n",
      "            \t| - | - | - |\n",
      "            \t-------------\n",
      "            \t| - | - | - |\n",
      "            \n",
      "your move:1\n",
      "\n",
      "            \t| - | X | - |\n",
      "            \t-------------\n",
      "            \t| - | - | - |\n",
      "            \t-------------\n",
      "            \t| - | - | - |\n",
      "            \n",
      "\n",
      "            \t| - | X | - |\n",
      "            \t-------------\n",
      "            \t| - | - | - |\n",
      "            \t-------------\n",
      "            \t| - | - | O |\n",
      "            \n",
      "your move:4\n",
      "\n",
      "            \t| - | X | - |\n",
      "            \t-------------\n",
      "            \t| - | X | - |\n",
      "            \t-------------\n",
      "            \t| - | - | O |\n",
      "            \n",
      "\n",
      "            \t| - | X | - |\n",
      "            \t-------------\n",
      "            \t| - | X | - |\n",
      "            \t-------------\n",
      "            \t| - | O | O |\n",
      "            \n",
      "your move:6\n",
      "\n",
      "            \t| - | X | - |\n",
      "            \t-------------\n",
      "            \t| - | X | - |\n",
      "            \t-------------\n",
      "            \t| X | O | O |\n",
      "            \n",
      "\n",
      "            \t| - | X | O |\n",
      "            \t-------------\n",
      "            \t| - | X | - |\n",
      "            \t-------------\n",
      "            \t| X | O | O |\n",
      "            \n",
      "your move:5\n",
      "\n",
      "            \t| - | X | O |\n",
      "            \t-------------\n",
      "            \t| - | X | X |\n",
      "            \t-------------\n",
      "            \t| X | O | O |\n",
      "            \n",
      "\n",
      "            \t| - | X | O |\n",
      "            \t-------------\n",
      "            \t| O | X | X |\n",
      "            \t-------------\n",
      "            \t| X | O | O |\n",
      "            \n",
      "your move:0\n",
      "\n",
      "            \t| X | X | O |\n",
      "            \t-------------\n",
      "            \t| O | X | X |\n",
      "            \t-------------\n",
      "            \t| X | O | O |\n",
      "            \n"
     ]
    }
   ],
   "source": [
    "h=HumanPlayer(1)\n",
    "g=Game(h,greedy22)\n",
    "g.play()"
   ]
  },
  {
   "cell_type": "markdown",
   "metadata": {},
   "source": [
    "Nice! Another go.."
   ]
  },
  {
   "cell_type": "code",
   "execution_count": 142,
   "metadata": {
    "collapsed": false
   },
   "outputs": [
    {
     "name": "stdout",
     "output_type": "stream",
     "text": [
      "\n",
      "            \t| - | - | - |\n",
      "            \t-------------\n",
      "            \t| - | - | - |\n",
      "            \t-------------\n",
      "            \t| - | - | - |\n",
      "            \n",
      "your move:3\n",
      "\n",
      "            \t| - | - | - |\n",
      "            \t-------------\n",
      "            \t| X | - | - |\n",
      "            \t-------------\n",
      "            \t| - | - | - |\n",
      "            \n",
      "\n",
      "            \t| - | - | - |\n",
      "            \t-------------\n",
      "            \t| X | O | - |\n",
      "            \t-------------\n",
      "            \t| - | - | - |\n",
      "            \n",
      "your move:0\n",
      "\n",
      "            \t| X | - | - |\n",
      "            \t-------------\n",
      "            \t| X | O | - |\n",
      "            \t-------------\n",
      "            \t| - | - | - |\n",
      "            \n",
      "\n",
      "            \t| X | - | - |\n",
      "            \t-------------\n",
      "            \t| X | O | - |\n",
      "            \t-------------\n",
      "            \t| O | - | - |\n",
      "            \n",
      "your move:2\n",
      "\n",
      "            \t| X | - | X |\n",
      "            \t-------------\n",
      "            \t| X | O | - |\n",
      "            \t-------------\n",
      "            \t| O | - | - |\n",
      "            \n",
      "\n",
      "            \t| X | O | X |\n",
      "            \t-------------\n",
      "            \t| X | O | - |\n",
      "            \t-------------\n",
      "            \t| O | - | - |\n",
      "            \n",
      "your move:7\n",
      "\n",
      "            \t| X | O | X |\n",
      "            \t-------------\n",
      "            \t| X | O | - |\n",
      "            \t-------------\n",
      "            \t| O | X | - |\n",
      "            \n",
      "\n",
      "            \t| X | O | X |\n",
      "            \t-------------\n",
      "            \t| X | O | O |\n",
      "            \t-------------\n",
      "            \t| O | X | - |\n",
      "            \n",
      "your move:8\n",
      "\n",
      "            \t| X | O | X |\n",
      "            \t-------------\n",
      "            \t| X | O | O |\n",
      "            \t-------------\n",
      "            \t| O | X | X |\n",
      "            \n"
     ]
    }
   ],
   "source": [
    "h=HumanPlayer(1)\n",
    "g=Game(h,greedy22)\n",
    "g.play()"
   ]
  },
  {
   "cell_type": "markdown",
   "metadata": {},
   "source": [
    "Another"
   ]
  },
  {
   "cell_type": "code",
   "execution_count": 143,
   "metadata": {
    "collapsed": false
   },
   "outputs": [
    {
     "name": "stdout",
     "output_type": "stream",
     "text": [
      "\n",
      "            \t| - | - | - |\n",
      "            \t-------------\n",
      "            \t| - | - | - |\n",
      "            \t-------------\n",
      "            \t| - | - | - |\n",
      "            \n",
      "your move:4\n",
      "\n",
      "            \t| - | - | - |\n",
      "            \t-------------\n",
      "            \t| - | X | - |\n",
      "            \t-------------\n",
      "            \t| - | - | - |\n",
      "            \n",
      "\n",
      "            \t| - | - | - |\n",
      "            \t-------------\n",
      "            \t| - | X | - |\n",
      "            \t-------------\n",
      "            \t| - | - | O |\n",
      "            \n",
      "your move:2\n",
      "\n",
      "            \t| - | - | X |\n",
      "            \t-------------\n",
      "            \t| - | X | - |\n",
      "            \t-------------\n",
      "            \t| - | - | O |\n",
      "            \n",
      "\n",
      "            \t| - | - | X |\n",
      "            \t-------------\n",
      "            \t| - | X | - |\n",
      "            \t-------------\n",
      "            \t| O | - | O |\n",
      "            \n",
      "your move:7\n",
      "\n",
      "            \t| - | - | X |\n",
      "            \t-------------\n",
      "            \t| - | X | - |\n",
      "            \t-------------\n",
      "            \t| O | X | O |\n",
      "            \n",
      "\n",
      "            \t| - | - | X |\n",
      "            \t-------------\n",
      "            \t| O | X | - |\n",
      "            \t-------------\n",
      "            \t| O | X | O |\n",
      "            \n",
      "your move:1\n",
      "\n",
      "            \t| - | X | X |\n",
      "            \t-------------\n",
      "            \t| O | X | - |\n",
      "            \t-------------\n",
      "            \t| O | X | O |\n",
      "            \n"
     ]
    }
   ],
   "source": [
    "h=HumanPlayer(1)\n",
    "g=Game(h,greedy22)\n",
    "g.play()"
   ]
  },
  {
   "cell_type": "markdown",
   "metadata": {},
   "source": [
    "I won!\n",
    "Seems training more with greedy vs greedy we get a somewhat better player."
   ]
  },
  {
   "cell_type": "markdown",
   "metadata": {},
   "source": [
    ">Exercise 1.2: Symmetries Many tic-tac-toe positions appear different but\n",
    "are really the same because of symmetries. How might we amend the reinforcement\n",
    "learning algorithm described above to take advantage of this? In what\n",
    "ways would this improve it? Now think again. Suppose the opponent did not\n",
    "take advantage of symmetries. In that case, should we? Is it true, then, that\n",
    "symmetrically equivalent positions should necessarily have the same value?"
   ]
  },
  {
   "cell_type": "markdown",
   "metadata": {},
   "source": [
    "SymmetryPlayer object\n",
    "=====\n",
    "I amend the algorithm by creating a `SymmetryPlayer` object which extends `Player` and overrides the `updateValueForState` where the value function is updated. Instead of updating just the given board state it updates all symmetries, ie. rotation reflection combinations.\n",
    "I expect there will be faster convergence with `SymmetryPlayer` vs `SymmetryPlayer`. I think although the symmetrically equivalent positions should have the same value ideally, in case the opponent did not take advantage of symmetries we should also not since there might be better ways of exploiting this, ie adapt to play of opponent for more wins. "
   ]
  },
  {
   "cell_type": "code",
   "execution_count": null,
   "metadata": {
    "collapsed": true
   },
   "outputs": [],
   "source": [
    "class SymmetryPlayer(Player):\n",
    "    def __init__(self,sign):\n",
    "        Player.__init__(self,sign)\n",
    "    def updateValueForState(self,state,newval):        \n",
    "        self.V[state]=newval \n",
    "        for i in range(0,2):\n",
    "            state=state.rotate()\n",
    "            self.V[state]=newval \n",
    "            \n",
    "        reflected=state.reflectHorizontal()\n",
    "        self.V[reflected]=newval \n",
    "        for i in range(0,2):\n",
    "            reflected=reflected.rotate()\n",
    "            self.V[reflected]=newval "
   ]
  },
  {
   "cell_type": "markdown",
   "metadata": {},
   "source": [
    "SymmetryPlayer vs SymmetryPlayer\n",
    "===="
   ]
  },
  {
   "cell_type": "code",
   "execution_count": 7,
   "metadata": {
    "collapsed": false
   },
   "outputs": [],
   "source": [
    "sym1=SymmetryPlayer(1,randomness=0.1)\n",
    "sym2=SymmetryPlayer(2,randomness=0.1)\n",
    "gl=GameLoop(sym1,sym2)\n",
    "gl.run(numrounds=10000)"
   ]
  },
  {
   "cell_type": "code",
   "execution_count": 12,
   "metadata": {
    "collapsed": false
   },
   "outputs": [
    {
     "name": "stdout",
     "output_type": "stream",
     "text": [
      "0.9073\n"
     ]
    },
    {
     "data": {
      "image/png": "[encoded data removed]",
      "text/plain": [
       "<matplotlib.figure.Figure at 0x106544250>"
      ]
     },
     "metadata": {},
     "output_type": "display_data"
    }
   ],
   "source": [
    "plotWins(gl)"
   ]
  },
  {
   "cell_type": "markdown",
   "metadata": {},
   "source": [
    "It converges faster compared to greedy vs greedy earliear"
   ]
  },
  {
   "cell_type": "markdown",
   "metadata": {},
   "source": [
    "Player vs SymmetryPlayer\n",
    "===="
   ]
  },
  {
   "cell_type": "code",
   "execution_count": 14,
   "metadata": {
    "collapsed": true
   },
   "outputs": [],
   "source": [
    "ply1=Player(1,randomness=0.1)\n",
    "sym2=SymmetryPlayer(2,randomness=0.1)\n",
    "gl=GameLoop(ply1,sym2)\n",
    "gl.run(numrounds=10000)"
   ]
  },
  {
   "cell_type": "code",
   "execution_count": 15,
   "metadata": {
    "collapsed": false
   },
   "outputs": [
    {
     "name": "stdout",
     "output_type": "stream",
     "text": [
      "0.8381\n"
     ]
    },
    {
     "data": {
      "image/png": "[encoded data removed]",
      "text/plain": [
       "<matplotlib.figure.Figure at 0x1092e9310>"
      ]
     },
     "metadata": {},
     "output_type": "display_data"
    }
   ],
   "source": [
    "plotWins(gl)"
   ]
  },
  {
   "cell_type": "markdown",
   "metadata": {},
   "source": [
    "SymmetryPlayer vs Player\n",
    "===="
   ]
  },
  {
   "cell_type": "code",
   "execution_count": 16,
   "metadata": {
    "collapsed": true
   },
   "outputs": [],
   "source": [
    "sym1=SymmetryPlayer(1,randomness=0.1)\n",
    "ply2=SymmetryPlayer(2,randomness=0.1)\n",
    "gl=GameLoop(sym1,ply2)\n",
    "gl.run(numrounds=10000)"
   ]
  },
  {
   "cell_type": "code",
   "execution_count": 17,
   "metadata": {
    "collapsed": false
   },
   "outputs": [
    {
     "name": "stdout",
     "output_type": "stream",
     "text": [
      "0.8555\n"
     ]
    },
    {
     "data": {
      "image/png": "[encoded data removed]",
      "text/plain": [
       "<matplotlib.figure.Figure at 0x1092db590>"
      ]
     },
     "metadata": {},
     "output_type": "display_data"
    }
   ],
   "source": [
    "plotWins(gl)"
   ]
  },
  {
   "cell_type": "markdown",
   "metadata": {},
   "source": [
    ">Exercise 1.3: Greedy Play Suppose the reinforcement learning player was\n",
    "greedy, that is, it always played the move that brought it to the position that\n",
    "it rated the best. Would it learn to play better, or worse, than a nongreedy\n",
    "player? What problems might occur?"
   ]
  },
  {
   "cell_type": "code",
   "execution_count": 20,
   "metadata": {
    "collapsed": false
   },
   "outputs": [],
   "source": [
    "pureGreed=Player(1,randomness=0)\n",
    "semiGreed=Player(2,randomness=0.1)\n",
    "gl=GameLoop(pureGreed,semiGreed)\n",
    "gl.run(numrounds=10000)"
   ]
  },
  {
   "cell_type": "code",
   "execution_count": 21,
   "metadata": {
    "collapsed": false
   },
   "outputs": [
    {
     "name": "stdout",
     "output_type": "stream",
     "text": [
      "0.3561\n"
     ]
    },
    {
     "data": {
      "image/png": "[encoded data removed]",
      "text/plain": [
       "<matplotlib.figure.Figure at 0x109312c10>"
      ]
     },
     "metadata": {},
     "output_type": "display_data"
    }
   ],
   "source": [
    "plotWins(gl)"
   ]
  },
  {
   "cell_type": "markdown",
   "metadata": {},
   "source": [
    "Interesting! The semi greedy player is loosing up around 2000 iterations then steadily improves and eventually plays better than purely greedy player. That should be because purely greedy one memorises bad moves"
   ]
  },
  {
   "cell_type": "markdown",
   "metadata": {},
   "source": [
    ">Exercise 1.4: Learning from Exploration Suppose learning updates occurred\n",
    "after all moves, including exploratory moves. If the step-size parameter is\n",
    "appropriately reduced over time, then the state values would converge to a\n",
    "set of probabilities. What are the two sets of probabilities computed when we\n",
    "do, and when we do not, learn from exploratory moves? Assuming that we\n",
    "do continue to make exploratory moves, which set of probabilities might be\n",
    "better to learn? Which would result in more wins?\n",
    "\n",
    "First I need to understand what properly reducing alpha means. I don't know the answer to this question. But here is what we get as unique values of board states after 100k games in a `LearningFromExplorationPlayer` object."
   ]
  },
  {
   "cell_type": "code",
   "execution_count": 3,
   "metadata": {
    "collapsed": true
   },
   "outputs": [],
   "source": [
    "grdy1=Player(1,randomness=0.1)\n",
    "expl2=LearningFromExplorationPlayer(2,randomness=0.1)\n",
    "gl=GameLoop(grdy1,expl2)\n",
    "gl.run(numrounds=100000)"
   ]
  },
  {
   "cell_type": "code",
   "execution_count": 9,
   "metadata": {
    "collapsed": false
   },
   "outputs": [
    {
     "data": {
      "text/plain": [
       "249"
      ]
     },
     "execution_count": 9,
     "metadata": {},
     "output_type": "execute_result"
    }
   ],
   "source": [
    "len(set(expl2.V.values()))"
   ]
  },
  {
   "cell_type": "markdown",
   "metadata": {},
   "source": [
    "Lots of values here, meaning no convergence as expected"
   ]
  },
  {
   "cell_type": "markdown",
   "metadata": {},
   "source": [
    ">Exercise 1.5: Other Improvements Can you think of other ways to improve\n",
    "the reinforcement learning player? Can you think of any better way to solve\n",
    "the tic-tac-toe problem as posed?\n",
    "\n",
    "There is no learning from mistakes in the greedy approach. The player should update the value function for its previous move when it looses."
   ]
  }
 ],
 "metadata": {
  "kernelspec": {
   "display_name": "Python 2",
   "language": "python",
   "name": "python2"
  },
  "language_info": {
   "codemirror_mode": {
    "name": "ipython",
    "version": 2
   },
   "file_extension": ".py",
   "mimetype": "text/x-python",
   "name": "python",
   "nbconvert_exporter": "python",
   "pygments_lexer": "ipython2",
   "version": "2.7.5"
  }
 },
 "nbformat": 4,
 "nbformat_minor": 0
}
